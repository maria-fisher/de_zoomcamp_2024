{
 "cells": [
  {
   "cell_type": "markdown",
   "metadata": {
    "id": "wcfgRqmbTFO2"
   },
   "source": [
    "# Homework dlt"
   ]
  },
  {
   "cell_type": "markdown",
   "metadata": {
    "id": "JanrgXG2ReJH"
   },
   "source": [
    "\n",
    "\n",
    "# Question 1.\n",
    "\n",
    "What is the sum of the outputs of the generator for limit = 5?\n",
    "\n",
    "10.234\n",
    "\n",
    "7.892\n",
    "\n",
    "8.382 (x)\n",
    "\n",
    "9.123\n",
    "\n"
   ]
  },
  {
   "cell_type": "markdown",
   "metadata": {
    "id": "uZzvohvgTEaG"
   },
   "source": []
  },
  {
   "cell_type": "code",
   "execution_count": null,
   "metadata": {
    "colab": {
     "base_uri": "https://localhost:8080/"
    },
    "id": "jF2794fKRITa",
    "outputId": "b7d7e920-df47-4341-97a7-8a53ccbfe02a"
   },
   "outputs": [
    {
     "name": "stdout",
     "output_type": "stream",
     "text": [
      "The sum of the outputs for limit = 5 is: 8.382332347441762\n"
     ]
    }
   ],
   "source": [
    "# Generator function\n",
    "def square_generator(limit):\n",
    "    n = 1\n",
    "    while n <= limit:\n",
    "        yield n ** 0.5\n",
    "        n += 1\n",
    "\n",
    "\n",
    "# Set the limit\n",
    "limit = 5\n",
    "\n",
    "\n",
    "# Create the generator object\n",
    "sum_gen = square_generator(limit)\n",
    "\n",
    "\n",
    "# Calculate the sum of the outputs\n",
    "sum_of_outputs = sum(sum_gen)\n",
    "\n",
    "\n",
    "# Print the result\n",
    "print(f\"The sum of the outputs for limit = {limit} is: {sum_of_outputs}\")\n",
    "\n"
   ]
  },
  {
   "cell_type": "markdown",
   "metadata": {
    "id": "5n8Vi0e_RsDR"
   },
   "source": [
    "\n",
    "# Question 2.\n",
    "\n",
    "What is the 13th number yielded by the generator?\n",
    "\n",
    "4.236\n",
    "\n",
    "3.605 (x)\n",
    "\n",
    "2.345\n",
    "\n",
    "5.678\n"
   ]
  },
  {
   "cell_type": "code",
   "execution_count": null,
   "metadata": {
    "colab": {
     "base_uri": "https://localhost:8080/"
    },
    "id": "aDUjGFyLRpc_",
    "outputId": "baa7fcc6-bc63-4139-9d5a-602fc373788d"
   },
   "outputs": [
    {
     "name": "stdout",
     "output_type": "stream",
     "text": [
      "The 13th nº yielded by the generator is: 3.605551275463989\n"
     ]
    }
   ],
   "source": [
    "# Generator function\n",
    "def square_generator(limit):\n",
    "    n = 1\n",
    "    while n <= limit:\n",
    "        yield n ** 0.5\n",
    "        n += 1\n",
    "\n",
    "        \n",
    "# Set the limit\n",
    "limit = 13\n",
    "\n",
    "\n",
    "# Create the generator objt\n",
    "sum_gen = square_generator(limit)\n",
    "\n",
    "\n",
    "# Find the 13th nº\n",
    "for _ in range(13 - 1):\n",
    "    next(sum_gen)\n",
    "\n",
    "    \n",
    "# Get the 13th nº\n",
    "thirteenth_number = next(sum_gen)\n",
    "\n",
    "\n",
    "# Print the result\n",
    "print(f\"The 13th nº yielded by the generator is: {thirteenth_number}\")\n"
   ]
  },
  {
   "cell_type": "markdown",
   "metadata": {
    "id": "ATLnrOixSEfq"
   },
   "source": [
    "# Question 3.\n",
    "\n",
    "Append a generator to a table with existing data\n",
    "\n",
    "Below you have 2 generators. You will be tasked to load them to duckdb and answer some questions from the data\n",
    "\n",
    "    Load the first generator and calculate the sum of ages of all people. Make sure to only load it once.\n",
    "    Append the second generator to the same table as the first.\n",
    "    After correctly appending the data, calculate the sum of all ages of people.\n",
    "\n",
    "\n",
    "Append the 2 generators. After correctly appending the data, calculate the sum of all ages of people.\n",
    "\n",
    "353 (x)\n",
    "\n",
    "365\n",
    "\n",
    "378\n",
    "\n",
    "390\n"
   ]
  },
  {
   "cell_type": "code",
   "execution_count": null,
   "metadata": {
    "id": "yxDdGpaXdP6Z"
   },
   "outputs": [],
   "source": [
    "#Install the dependencies\n",
    "%%capture\n",
    "!pip install dlt[duckdb]\n"
   ]
  },
  {
   "cell_type": "code",
   "execution_count": null,
   "metadata": {
    "colab": {
     "base_uri": "https://localhost:8080/"
    },
    "id": "P5y0s26GdYYC",
    "outputId": "43aa6c10-0743-45d0-f793-71633628535f"
   },
   "outputs": [
    {
     "name": "stdout",
     "output_type": "stream",
     "text": [
      "Data from people_1:\n",
      "{'ID': 1, 'Name': 'Person_1', 'Age': 26, 'City': 'City_A'}\n",
      "{'ID': 2, 'Name': 'Person_2', 'Age': 27, 'City': 'City_A'}\n",
      "{'ID': 3, 'Name': 'Person_3', 'Age': 28, 'City': 'City_A'}\n",
      "{'ID': 4, 'Name': 'Person_4', 'Age': 29, 'City': 'City_A'}\n",
      "{'ID': 5, 'Name': 'Person_5', 'Age': 30, 'City': 'City_A'}\n",
      "\n",
      "Sum of ages before appending: 140\n",
      "\n",
      "Data from people_2 (appended to people_1):\n",
      "{'ID': 1, 'Name': 'Person_1', 'Age': 26, 'City': 'City_A'}\n",
      "{'ID': 2, 'Name': 'Person_2', 'Age': 27, 'City': 'City_A'}\n",
      "{'ID': 3, 'Name': 'Person_3', 'Age': 28, 'City': 'City_A'}\n",
      "{'ID': 4, 'Name': 'Person_4', 'Age': 29, 'City': 'City_A'}\n",
      "{'ID': 5, 'Name': 'Person_5', 'Age': 30, 'City': 'City_A'}\n",
      "{'ID': 3, 'Name': 'Person_3', 'Age': 33, 'City': 'City_B', 'Occupation': 'Job_3'}\n",
      "{'ID': 4, 'Name': 'Person_4', 'Age': 34, 'City': 'City_B', 'Occupation': 'Job_4'}\n",
      "{'ID': 5, 'Name': 'Person_5', 'Age': 35, 'City': 'City_B', 'Occupation': 'Job_5'}\n",
      "{'ID': 6, 'Name': 'Person_6', 'Age': 36, 'City': 'City_B', 'Occupation': 'Job_6'}\n",
      "{'ID': 7, 'Name': 'Person_7', 'Age': 37, 'City': 'City_B', 'Occupation': 'Job_7'}\n",
      "{'ID': 8, 'Name': 'Person_8', 'Age': 38, 'City': 'City_B', 'Occupation': 'Job_8'}\n",
      "\n",
      "Sum of ages after appending: 353\n"
     ]
    }
   ],
   "source": [
    "# 1º Generator\n",
    "def people_1():\n",
    "    for i in range(1, 6):\n",
    "        yield {\"ID\": i, \"Name\": f\"Person_{i}\", \"Age\": 25 + i, \"City\": \"City_A\"}\n",
    "\n",
    "\n",
    "# Print & calculate the sum of ages\n",
    "people_1_data = list(people_1())\n",
    "sum_of_ages_before_append = sum(person[\"Age\"] for person in people_1_data)\n",
    "print(\"Data from people_1:\")\n",
    "for person in people_1_data:\n",
    "    print(person)\n",
    "\n",
    "print(f\"\\nSum of ages before appending: {sum_of_ages_before_append}\\n\")\n",
    "\n",
    "# 2º Generator\n",
    "def people_2():\n",
    "    for i in range(3, 9):\n",
    "        yield {\"ID\": i, \"Name\": f\"Person_{i}\", \"Age\": 30 + i, \"City\": \"City_B\", \"Occupation\": f\"Job_{i}\"}\n",
    "\n",
    "\n",
    "# Append Data from the 2º generator to the List\n",
    "people_combined_data = people_1_data + list(people_2())\n",
    "\n",
    "\n",
    "# Print & calculate the sum of ages after appending\n",
    "print(\"Data from people_2 (appended to people_1):\")\n",
    "for person in people_combined_data:\n",
    "    print(person)\n",
    "\n",
    "    \n",
    "sum_of_ages_after_append = sum(person[\"Age\"] for person in people_combined_data)\n",
    "print(f\"\\nSum of ages after appending: {sum_of_ages_after_append}\")\n"
   ]
  },
  {
   "cell_type": "code",
   "execution_count": null,
   "metadata": {
    "id": "451Ffyr7dYEh"
   },
   "outputs": [],
   "source": []
  },
  {
   "cell_type": "markdown",
   "metadata": {
    "id": "2kOk0LWmDma3"
   },
   "source": [
    "# Question 4:\n",
    "\n",
    "Merge the 2 generators using the ID column. Calculate the sum of ages of all the people loaded as described above.\n",
    "\n",
    "- **A**: 205\n",
    "- **B**: 213\n",
    "- **C**: 221\n",
    "- **D**: 230\n"
   ]
  },
  {
   "cell_type": "code",
   "execution_count": null,
   "metadata": {
    "colab": {
     "base_uri": "https://localhost:8080/"
    },
    "id": "chL4lzuxDWZ2",
    "outputId": "171e043e-9c70-42a7-c027-e5a67649120b"
   },
   "outputs": [
    {
     "name": "stdout",
     "output_type": "stream",
     "text": [
      "Merged People:\n",
      "{'ID': 1, 'Name': 'Person_1', 'Age': 26, 'City': 'City_A'}\n",
      "{'ID': 2, 'Name': 'Person_2', 'Age': 27, 'City': 'City_A'}\n",
      "{'ID': 3, 'Name': 'Person_3', 'Age': 33, 'City': 'City_B', 'Occupation': 'Job_3'}\n",
      "{'ID': 4, 'Name': 'Person_4', 'Age': 34, 'City': 'City_B', 'Occupation': 'Job_4'}\n",
      "{'ID': 5, 'Name': 'Person_5', 'Age': 35, 'City': 'City_B', 'Occupation': 'Job_5'}\n",
      "{'ID': 6, 'Name': 'Person_6', 'Age': 36, 'City': 'City_B', 'Occupation': 'Job_6'}\n",
      "{'ID': 7, 'Name': 'Person_7', 'Age': 37, 'City': 'City_B', 'Occupation': 'Job_7'}\n",
      "{'ID': 8, 'Name': 'Person_8', 'Age': 38, 'City': 'City_B', 'Occupation': 'Job_8'}\n",
      "\n",
      "Sum of Ages of All People: 266\n"
     ]
    }
   ],
   "source": [
    "# Generators → 1º & 2º\n",
    "\n",
    "def people_1():\n",
    "    for i in range(1, 6):\n",
    "        yield {\"ID\": i, \"Name\": f\"Person_{i}\", \"Age\": 25 + i, \"City\": \"City_A\"}\n",
    "\n",
    "        \n",
    "def people_2():\n",
    "    for i in range(3, 9):\n",
    "        yield {\"ID\": i, \"Name\": f\"Person_{i}\", \"Age\": 30 + i, \"City\": \"City_B\", \"Occupation\": f\"Job_{i}\"}\n",
    "\n",
    "\n",
    "# Merge the generators based on the 'id' column\n",
    "merged_people = {}\n",
    "for person in people_1():\n",
    "    merged_people[person['ID']] = person\n",
    "\n",
    "\n",
    "for person in people_2():\n",
    "    merged_people[person['ID']] = person\n",
    "\n",
    "\n",
    "# Calculate the sum of ages of all people\n",
    "sum_of_ages = sum(person['Age'] for person in merged_people.values())\n",
    "\n",
    "\n",
    "print(\"Merged People:\")\n",
    "for person in merged_people.values():\n",
    "    print(person)\n",
    "\n",
    "print(\"\\nSum of Ages of All People:\", sum_of_ages)\n",
    "\n"
   ]
  },
  {
   "cell_type": "markdown",
   "metadata": {
    "id": "n3lW5PUCNl6p"
   },
   "source": []
  },
  {
   "cell_type": "markdown",
   "metadata": {
    "id": "PoTJu4kbGG0z"
   },
   "source": [
    "Questions? difficulties? We are here to help.\n",
    "- DTC data engineering course channel: https://datatalks-club.slack.com/archives/C01FABYF2RG\n",
    "- dlt's DTC cohort channel: https://dlthub-community.slack.com/archives/C06GAEX2VNX"
   ]
  }
 ],
 "metadata": {
  "colab": {
   "provenance": []
  },
  "kernelspec": {
   "display_name": "Python 3 (ipykernel)",
   "language": "python",
   "name": "python3"
  },
  "language_info": {
   "codemirror_mode": {
    "name": "ipython",
    "version": 3
   },
   "file_extension": ".py",
   "mimetype": "text/x-python",
   "name": "python",
   "nbconvert_exporter": "python",
   "pygments_lexer": "ipython3",
   "version": "3.11.5"
  }
 },
 "nbformat": 4,
 "nbformat_minor": 4
}
