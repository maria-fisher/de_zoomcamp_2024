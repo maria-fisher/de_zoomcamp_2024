{
 "cells": [
  {
   "cell_type": "markdown",
   "id": "29170ce2-5f2f-4e6c-a7f1-8a6756253733",
   "metadata": {},
   "source": [
    "# Data Engineering Zoomcamp\n",
    "### Maria Fisher \n",
    "\n",
    "## Module 1 Homework\n",
    "\n",
    "## Docker & SQL"
   ]
  },
  {
   "cell_type": "markdown",
   "id": "f33c7cd6-fabf-4831-b267-765380461706",
   "metadata": {},
   "source": [
    "## Question 1. Knowing docker tags\n",
    "\n",
    "Run the command to get information on Docker \n",
    "\n",
    "```docker --help```\n",
    "\n",
    "Now run the command to get help on the \"docker build\" command:\n",
    "\n",
    "```docker build --help```\n",
    "\n",
    "Do the same for \"docker run\".\n",
    "\n",
    "Which tag has the following text? - *Automatically remove the container when it exits* \n",
    "\n",
    "- `--delete`\n",
    "- `--rc`\n",
    "- `--rmc`\n",
    "- `--rm` (X)\n"
   ]
  },
  {
   "cell_type": "markdown",
   "id": "b5d74380-9fd0-4e85-8ed2-7bca87104bb8",
   "metadata": {},
   "source": [
    "## Question 2. Understanding docker first run \n",
    "\n",
    "Run docker with the python:3.9 image in an interactive mode and the entrypoint of bash.\n",
    "Now check the python modules that are installed ( use ```pip list``` ). \n",
    "\n",
    "What is version of the package *wheel* ?\n",
    "\n",
    "- 0.42.0 (x)\n",
    "- 1.0.0\n",
    "- 23.0.1\n",
    "- 58.1.0\n"
   ]
  },
  {
   "cell_type": "markdown",
   "id": "19200a68-d48b-48e7-af95-db0b501a05e1",
   "metadata": {},
   "source": [
    "# Prepare Postgres\n",
    "\n",
    "Run Postgres and load data as shown in the videos\n",
    "We'll use the green taxi trips from September 2019:\n",
    "\n",
    "```wget https://github.com/DataTalksClub/nyc-tlc-data/releases/download/green/green_tripdata_2019-09.csv.gz```\n",
    "\n",
    "You will also need the dataset with zones:\n",
    "\n",
    "```wget https://s3.amazonaws.com/nyc-tlc/misc/taxi+_zone_lookup.csv```\n",
    "\n",
    "Download this data and put it into Postgres (with jupyter notebooks or with a pipeline)\n"
   ]
  },
  {
   "cell_type": "code",
   "execution_count": null,
   "id": "e3700920-5bb8-4d1b-9166-8070cf81f0b1",
   "metadata": {},
   "outputs": [],
   "source": []
  },
  {
   "cell_type": "markdown",
   "id": "ce2bb765-a422-4419-8958-776941ff8f2a",
   "metadata": {},
   "source": [
    "\n",
    "## Question 3. Count records \n",
    "\n",
    "How many taxi trips were totally made on September 18th 2019?\n",
    "\n",
    "Tip: started and finished on 2019-09-18. \n",
    "\n",
    "Remember that `lpep_pickup_datetime` and `lpep_dropoff_datetime` columns are in the format timestamp (date and hour+min+sec) and not in date.\n",
    "\n",
    "- 15767\n",
    "- 15612 (x)\n",
    "- 15859\n",
    "- 89009"
   ]
  },
  {
   "cell_type": "code",
   "execution_count": null,
   "id": "57e4aea7-ad46-488a-af08-1970b921abec",
   "metadata": {},
   "outputs": [],
   "source": [
    "import pandas as pd\n",
    "import psycopg2"
   ]
  },
  {
   "cell_type": "code",
   "execution_count": null,
   "id": "a1a830c1-7b76-456d-ad01-5d7651490230",
   "metadata": {},
   "outputs": [],
   "source": [
    "import pandas as pd\n",
    "import psycopg2\n",
    "\n",
    "# establish a connection to the database\n",
    "conn = psycopg2.connect(\n",
    "    host=\"localhost\",\n",
    "    dbname=\"ny_taxi\",\n",
    "    user=\"root\",\n",
    "    password=\"root\"\n",
    ")\n",
    "\n",
    "# create a cursor object to execute SQL queries\n",
    "cur = conn.cursor()\n",
    "\n",
    "# execute the SQL query to count the number of taxi trips on September 18th, 2019\n",
    "cur.execute(\"\"\"\n",
    "    SELECT COUNT(*) FROM green_taxi_data\n",
    "    WHERE \n",
    "        CAST(lpep_pickup_datetime AS DATE) = '2019-09-18' AND \n",
    "        CAST(lpep_dropoff_datetime AS DATE) = '2019-09-18'\n",
    "\"\"\")\n",
    "\n",
    "# fetch the result of the query\n",
    "result = cur.fetchone()[0]\n",
    "\n",
    "# print the number of taxi trips\n",
    "print(f\"Total taxi trips on September 18th, 2019: {result}\")\n",
    "\n",
    "# close the cursor and connection\n",
    "cur.close()\n",
    "conn.close()"
   ]
  },
  {
   "cell_type": "markdown",
   "id": "bf0e4776-1185-4379-9c4b-96e295d5bbdb",
   "metadata": {},
   "source": [
    "## Question 4. Largest trip for each day\n",
    "\n",
    "Which was the pick up day with the largest trip distance\n",
    "Use the pick up time for your calculations.\n",
    "\n",
    "- 2019-09-18\n",
    "- 2019-09-16\n",
    "- 2019-09-26\n",
    "- 2019-09-21"
   ]
  },
  {
   "cell_type": "code",
   "execution_count": null,
   "id": "0b146ba5-2781-4e72-8063-223c4dd5b94b",
   "metadata": {},
   "outputs": [],
   "source": [
    "import pandas as pd\n",
    "import psycopg2\n",
    "\n",
    "# Connect to the Postgres database\n",
    "conn = psycopg2.connect(\n",
    "    host=\"localhost\",\n",
    "    dbname=\"ny_taxi\",\n",
    "    user=\"root\",\n",
    "    password=\"root\"\n",
    ")\n",
    "# Create a cursor object\n",
    "cur = conn.cursor()\n",
    "\n",
    "# Execute the SQL query to get the pick up day with the largest trip distance\n",
    "cur.execute(\"\"\"\n",
    "    SELECT \n",
    "        lpep_pickup_datetime,\n",
    "        trip_distance\n",
    "    FROM \n",
    "        green_taxi_data\n",
    "    WHERE \n",
    "        DATE(lpep_pickup_datetime) IN ('2019-09-18', '2019-09-16', '2019-09-26', '2019-09-21')\n",
    "\n",
    "    ORDER BY trip_distance DESC;\n",
    "    \n",
    "\"\"\")\n",
    "\n",
    "# Fetch the result\n",
    "result = cur.fetchone()\n",
    "\n",
    "# Print the pick up day with the largest trip distance\n",
    "print(\"Pick up day with the largest trip distance:\", result[0])\n",
    "\n",
    "# Close the cursor and connection\n",
    "cur.close()\n",
    "conn.close()"
   ]
  },
  {
   "cell_type": "code",
   "execution_count": null,
   "id": "fdb1da27-1a48-4bd1-b68d-317a1b70c34d",
   "metadata": {},
   "outputs": [],
   "source": []
  },
  {
   "cell_type": "markdown",
   "id": "f5384328-82da-44f5-8935-1bb42cc95b07",
   "metadata": {},
   "source": [
    "## Join the tables \n"
   ]
  },
  {
   "cell_type": "code",
   "execution_count": null,
   "id": "a07a07db-2eab-481d-909f-00fc6f0b1739",
   "metadata": {
    "tags": []
   },
   "outputs": [],
   "source": [
    "import psycopg2\n",
    "import pandas as pd\n",
    "\n",
    "# Connect to the Postgres database\n",
    "conn = psycopg2.connect(\n",
    "    host=\"localhost\",\n",
    "    dbname=\"ny_taxi\",\n",
    "    user=\"root\",\n",
    "    password=\"root\"\n",
    ")\n",
    "\n",
    "\n",
    "# Create the SQL query\n",
    "query = ('''\n",
    "   SELECT\n",
    "        CAST(lpep_pickup_datetime AS DATE),\n",
    "        CAST(lpep_dropoff_datetime AS DATE),\n",
    "        \"total_amount\",\n",
    "        \"tip_amount\",\n",
    "        zpu.\"Borough\" AS \"zpu_local\",\n",
    "        zpu.\"Zone\"  AS \"zpu_zone\",\n",
    "        zdo.\"Borough\" AS \"zdo_local\",\n",
    "        zdo.\"Zone\"  AS \"zdo_zone\"\n",
    "    FROM\n",
    "        green_taxi_data t,\n",
    "        zones zpu,\n",
    "        zones zdo\n",
    "    WHERE\n",
    "        t.\"PULocationID\" = zpu.\"LocationID\" AND\n",
    "        t.\"DOLocationID\" = zdo.\"LocationID\"\n",
    "    ORDER BY\n",
    "        \"lpep_pickup_datetime\" DESC;\n",
    "    \n",
    "''')\n",
    "\n",
    "# Read the results into a pandas DataFrame\n",
    "df = pd.read_sql_query(query, conn)\n",
    "\n",
    "# Close the connection\n",
    "conn.close()\n",
    "\n",
    "\n"
   ]
  },
  {
   "cell_type": "code",
   "execution_count": null,
   "id": "cffe6a69-6084-45ce-9f02-ac2bc947bc5c",
   "metadata": {
    "tags": []
   },
   "outputs": [],
   "source": [
    "df"
   ]
  },
  {
   "cell_type": "code",
   "execution_count": null,
   "id": "53a81bbf-f228-4d9c-bad5-f3382d09e48e",
   "metadata": {},
   "outputs": [],
   "source": [
    "df.to_csv('ny_taxi_.csv', index=False)"
   ]
  },
  {
   "cell_type": "code",
   "execution_count": null,
   "id": "2828d6a6-b61b-4e88-aac7-d3ba1f05ab3f",
   "metadata": {},
   "outputs": [],
   "source": []
  },
  {
   "cell_type": "markdown",
   "id": "6843e8bb-aec4-4b01-a158-9b74e1fb9c68",
   "metadata": {},
   "source": [
    "## Question 5. Three biggest pick up Boroughs\n",
    "\n",
    "Consider lpep_pickup_datetime in '2019-09-18' and ignoring Borough has Unknown\n",
    "\n",
    "Which were the 3 pick up Boroughs that had a sum of total_amount superior to 50000?\n",
    " \n",
    "- \"Brooklyn\" \"Manhattan\" \"Queens\" (x)\n",
    "- \"Bronx\" \"Brooklyn\" \"Manhattan\"\n",
    "- \"Bronx\" \"Manhattan\" \"Queens\" \n",
    "- \"Brooklyn\" \"Queens\" \"Staten Island\"\n"
   ]
  },
  {
   "cell_type": "code",
   "execution_count": null,
   "id": "eecdd383-9f47-44eb-862d-116e7965ed25",
   "metadata": {},
   "outputs": [],
   "source": [
    "import pandas as pd\n",
    "df = pd.read_csv(\"ny_taxi_.csv\")\n",
    "df"
   ]
  },
  {
   "cell_type": "code",
   "execution_count": null,
   "id": "75ee6ce8-9881-47aa-a6ae-e49ccdb9d5bc",
   "metadata": {},
   "outputs": [],
   "source": [
    "lpep_pickup_datetime, lpep_dropoff_datetime,PULocationID, DOLocationID, tip_amount, "
   ]
  },
  {
   "cell_type": "code",
   "execution_count": null,
   "id": "ba7ced87-0615-420a-a499-b3f7300a3c3c",
   "metadata": {
    "tags": []
   },
   "outputs": [],
   "source": [
    "set0 = df.loc[df[\"lpep_pickup_datetime\"] == \"2019-09-18\"]\n",
    "set0"
   ]
  },
  {
   "cell_type": "code",
   "execution_count": null,
   "id": "7edc1bde-6e2d-4d82-a364-71468ec5347d",
   "metadata": {
    "tags": []
   },
   "outputs": [],
   "source": [
    "set1 = set0[set0.zpu_local.isin([\"Brooklyn\", \"Manhattan\", \"Queens\",\"Staten Island\",\"Bronx\" ])]\n",
    "set1"
   ]
  },
  {
   "cell_type": "code",
   "execution_count": null,
   "id": "f32e12aa-6d1d-40d3-bbcc-a5740ef0e47b",
   "metadata": {
    "tags": []
   },
   "outputs": [],
   "source": [
    "set1 = set1.groupby('zpu_local')['total_amount'].sum()\n",
    "set1 \n"
   ]
  },
  {
   "cell_type": "code",
   "execution_count": null,
   "id": "aac18f37-b6f0-4cc8-ba29-bc667ba8a835",
   "metadata": {
    "tags": []
   },
   "outputs": [],
   "source": []
  },
  {
   "cell_type": "code",
   "execution_count": null,
   "id": "80a37d89-e557-4bfd-a691-adaac282cc8f",
   "metadata": {},
   "outputs": [],
   "source": []
  },
  {
   "cell_type": "markdown",
   "id": "995d1e3e-e2bd-4e20-96e8-40990fa526a4",
   "metadata": {
    "tags": []
   },
   "source": [
    "## Question 6. Largest tip\n",
    "\n",
    "For the passengers picked up in September 2019 in the zone name Astoria which was the drop off zone that had the largest tip?\n",
    "We want the name of the zone, not the id.\n",
    "\n",
    "Note: it's not a typo, it's `tip` , not `trip`\n",
    "\n",
    "- Central Park\n",
    "- Jamaica\n",
    "- JFK Airport\n",
    "- Long Island City/Queens Plaza (x)"
   ]
  },
  {
   "cell_type": "code",
   "execution_count": null,
   "id": "534c7f5b-ed7d-47c4-a078-b59cfe442408",
   "metadata": {
    "tags": []
   },
   "outputs": [
    {
     "name": "stderr",
     "output_type": "stream",
     "text": [
      "/tmp/ipykernel_21396/1559433941.py:41: UserWarning: pandas only supports SQLAlchemy connectable (engine/connection) or database string URI or sqlite3 DBAPI2 connection. Other DBAPI2 objects are not tested. Please consider using SQLAlchemy.\n",
      "  df = pd.read_sql_query(query, conn)\n"
     ]
    }
   ],
   "source": [
    "import psycopg2\n",
    "import pandas as pd\n",
    "\n",
    "# Connect to the Postgres database\n",
    "conn = psycopg2.connect(\n",
    "    host=\"localhost\",\n",
    "    dbname=\"ny_taxi\",\n",
    "    user=\"root\",\n",
    "    password=\"root\"\n",
    ")\n",
    "\n",
    "\n",
    "# Create the SQL query\n",
    "query = ('''\n",
    " SELECT \n",
    "    CAST(lpep_pickup_datetime AS DATE) ,\n",
    "    CAST(lpep_dropoff_datetime AS DATE),\n",
    "    total_amount,\n",
    "    tip_amount,\n",
    "    zpu.\"Borough\" AS \"zpu_local\",\n",
    "    zpu.\"Zone\"  AS \"zpu_zone\",\n",
    "    zdo.\"Borough\" AS \"zdo_local\",\n",
    "    zdo.\"Zone\"  AS \"zdo_zone\",\n",
    "    (SELECT SUM(tip_amount) FROM green_taxi_data \n",
    "    WHERE CAST(lpep_pickup_datetime AS DATE) >= '2019-09-01' AND \n",
    "    CAST(lpep_pickup_datetime AS DATE) < '2019-10-01' AND \n",
    "    zpu.\"Zone\" = 'Astoria') AS total_tips_for_astoria\n",
    "\n",
    "FROM\n",
    "    green_taxi_data t\n",
    "JOIN\n",
    "    zones zpu ON t.\"PULocationID\" = zpu.\"LocationID\"\n",
    "JOIN\n",
    "    zones zdo ON t.\"DOLocationID\" = zdo.\"LocationID\"\n",
    "ORDER BY\n",
    "    tip_amount DESC; \n",
    "\n",
    "''')\n",
    "\n",
    "# Read the results into a pandas DataFrame\n",
    "df = pd.read_sql_query(query, conn)\n",
    "\n",
    "# Close the connection\n",
    "conn.close()\n",
    "\n",
    "\n",
    "\n"
   ]
  },
  {
   "cell_type": "code",
   "execution_count": null,
   "id": "38357688-15ba-4e71-8109-83cb7e38b34d",
   "metadata": {
    "tags": []
   },
   "outputs": [],
   "source": [
    "df"
   ]
  },
  {
   "cell_type": "code",
   "execution_count": null,
   "id": "f4338a73-10a7-461a-b538-b8cf5158f204",
   "metadata": {
    "tags": []
   },
   "outputs": [],
   "source": [
    "set0 = df.loc[(df[\"lpep_pickup_datetime\"] >= \"2019-09-01\") & (df['lpep_pickup_datetime'] <= '2019-09-31')]\n",
    "set0\n"
   ]
  },
  {
   "cell_type": "code",
   "execution_count": null,
   "id": "324f3cf9-3e78-4767-b244-62ffe20138ec",
   "metadata": {},
   "outputs": [],
   "source": [
    "setb = set0[set0.zpu_zone.isin([\"Astoria\"])]\n",
    "setb"
   ]
  },
  {
   "cell_type": "code",
   "execution_count": null,
   "id": "ca559956-da8a-4c7c-afcd-3be9a60f1b13",
   "metadata": {
    "tags": []
   },
   "outputs": [],
   "source": [
    "seta = setb.zdo_zone.unique()\n"
   ]
  },
  {
   "cell_type": "code",
   "execution_count": null,
   "id": "24ee3e8c-66d6-4051-a09b-91309d63096f",
   "metadata": {
    "tags": []
   },
   "outputs": [],
   "source": [
    "setb = setb.groupby('zdo_zone')['tip_amount', ].sum()\n",
    "setb"
   ]
  },
  {
   "cell_type": "code",
   "execution_count": null,
   "id": "ac21903c-d49f-4092-a25c-a1c7674a9283",
   "metadata": {
    "tags": []
   },
   "outputs": [],
   "source": [
    "\n",
    "df = setb.sort_values(by='tip_amount', ascending=False)"
   ]
  },
  {
   "cell_type": "code",
   "execution_count": null,
   "id": "4ca72bae-dd6a-4ba6-a61c-a6f22993d66f",
   "metadata": {},
   "outputs": [],
   "source": [
    "df"
   ]
  },
  {
   "cell_type": "markdown",
   "id": "02423fa7-ae83-4e9e-8607-d599549d162f",
   "metadata": {},
   "source": [
    "Question 7. Terraform\n",
    "\n",
    "In this section homework we'll prepare the environment by creating resources in GCP with Terraform.\n",
    "\n",
    "In your VM on GCP/Laptop/GitHub Codespace install Terraform. \n",
    "Copy the files from the course repo\n",
    "[here](https://github.com/DataTalksClub/data-engineering-zoomcamp/tree/main/01-docker-terraform/1_terraform_gcp/terraform) to your VM/Laptop/GitHub Codespace.\n",
    "\n",
    "Modify the files as necessary to create a GCP Bucket and Big Query Dataset.\n",
    "\n",
    "\n",
    "## Question 7. Creating Resources\n",
    "\n",
    "After updating the main.tf and variable.tf files run:\n",
    "\n",
    "```\n",
    "terraform apply\n",
    "```\n",
    "\n",
    "Paste the output of this command into the homework submission form."
   ]
  },
  {
   "cell_type": "markdown",
   "id": "3f86f653-e0b8-4ed5-b37f-3304a4b57acc",
   "metadata": {},
   "source": [
    "![terraform bucket](./terraform/terraform_apply.png)"
   ]
  },
  {
   "cell_type": "markdown",
   "id": "eb72cae3-152a-4079-a768-abbb72be963c",
   "metadata": {
    "tags": []
   },
   "source": [
    "![terraform bucket](./terraform/terraform1_bucket.png)"
   ]
  },
  {
   "cell_type": "markdown",
   "id": "581c4cb0-593e-4f50-937c-f60e4d5cde09",
   "metadata": {},
   "source": [
    "![terraform bucket](./terraform/terraform2_bigquery.png)"
   ]
  },
  {
   "cell_type": "code",
   "execution_count": null,
   "id": "7d5c3e34-5b65-43e0-b75b-6a43f6b9abf3",
   "metadata": {},
   "outputs": [],
   "source": []
  }
 ],
 "metadata": {
  "kernelspec": {
   "display_name": "Python 3 (ipykernel)",
   "language": "python",
   "name": "python3"
  },
  "language_info": {
   "codemirror_mode": {
    "name": "ipython",
    "version": 3
   },
   "file_extension": ".py",
   "mimetype": "text/x-python",
   "name": "python",
   "nbconvert_exporter": "python",
   "pygments_lexer": "ipython3",
   "version": "3.11.5"
  }
 },
 "nbformat": 4,
 "nbformat_minor": 5
}
